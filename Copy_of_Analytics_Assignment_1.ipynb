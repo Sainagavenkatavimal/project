{
  "nbformat": 4,
  "nbformat_minor": 0,
  "metadata": {
    "colab": {
      "provenance": [],
      "include_colab_link": true
    },
    "kernelspec": {
      "name": "python3",
      "display_name": "Python 3"
    },
    "language_info": {
      "name": "python"
    }
  },
  "cells": [
    {
      "cell_type": "markdown",
      "metadata": {
        "id": "view-in-github",
        "colab_type": "text"
      },
      "source": [
        "<a href=\"https://colab.research.google.com/github/Sainagavenkatavimal/project/blob/main/Copy_of_Analytics_Assignment_1.ipynb\" target=\"_parent\"><img src=\"https://colab.research.google.com/assets/colab-badge.svg\" alt=\"Open In Colab\"/></a>"
      ]
    },
    {
      "cell_type": "markdown",
      "source": [
        "This assignment is to perform an analysis of the “Google Merchandise Store” website using Google Analytics and make dashboards on Google Data Studio by answering the  questions given below."
      ],
      "metadata": {
        "id": "5hpTDxdtjR03"
      }
    },
    {
      "cell_type": "markdown",
      "source": [
        "### **Steps to access the Analytics data:**\n"
      ],
      "metadata": {
        "id": "2MtIQu2Ajbge"
      }
    },
    {
      "cell_type": "markdown",
      "source": [
        "**Step 1:** Go to https://analytics.google.com/analytics/web/demoAccount  and click on ‘Universal Analytics property: Google Merchandise Store (web data)’ under 'Access the demo account' and analyse the different metrics and reports given. The data in the Google Analytics demo account is from the Google Merchandise Store(https://shop.googlemerchandisestore.com/)."
      ],
      "metadata": {
        "id": "9nQWWF2KjdYu"
      }
    },
    {
      "cell_type": "markdown",
      "source": [
        "**Step 2:** Go to https://datastudio.google.com/ and click on ‘Blank Report’ under reports. Fill in the necessary information and make an account."
      ],
      "metadata": {
        "id": "5vPmX4y7jdbQ"
      }
    },
    {
      "cell_type": "markdown",
      "source": [
        "**Step 3:** Click on ‘My data Sources’ and add the ‘[Sample] Google Analytics Data’."
      ],
      "metadata": {
        "id": "3pAag0XajdeZ"
      }
    },
    {
      "cell_type": "markdown",
      "source": [
        "**Step 4:** Make 3 separate dashboards on - ‘Google Analytics’, ‘Cohort Analytics’, and ‘Funnel Analytics’ on Data Studio using proper visualisation charts and graphs, and try to answer the following questions."
      ],
      "metadata": {
        "id": "fhsxhq3Zkax8"
      }
    },
    {
      "cell_type": "markdown",
      "source": [
        "### **A. Google Analytics:**"
      ],
      "metadata": {
        "id": "4raU6wser9iV"
      }
    },
    {
      "cell_type": "markdown",
      "source": [
        "1. Plot a chart showing the comparison of transactions, E-Commerce Conversion Rate and revenue in the month of November, 2023 with respect to the previous month i.e. October, 2023.\n",
        "\n",
        "  a. What is the highest transactions, E-Commerce Conversion Rate and revenue in the month of November, 2023 and on which dates?\n",
        "\n",
        "  b. Are there any common dates on which transactions, E-Commerce Conversion Rate and revenue were the same w.r.t. the previous month?\n",
        "\n",
        "  c. What is the Total of transactions, E-Commerce Conversion Rate w.r.t. the previous month?\n",
        "\n"
      ],
      "metadata": {
        "id": "oKkOXxQzsC-c"
      }
    },
    {
      "cell_type": "markdown",
      "source": [
        "2. Plot a chart showing the comparison of transactions, E-Commerce Conversion Rate and revenue for the different channel groups.\n",
        "\n",
        "  a. Which channel group has the highest E-Commerce Conversion Rate in the month of November, 2023?\n",
        "\n",
        "  b. What is the number of sessions in the month of July, 2023 from Affiliates?\n",
        "\n",
        "  c. Has the revenue increased or decreased from Paid Search in the month of September 2023 w.r.t August 2023 and by how much percentage?\n"
      ],
      "metadata": {
        "id": "lP6a8Fs5saeF"
      }
    },
    {
      "cell_type": "markdown",
      "source": [
        "3. Plot a chart showing the revenue generation from different age groups of people.\n",
        "\n",
        "  a. From which age group is the highest revenue generated in the month of August, 2023 and on which date?\n",
        "\n",
        "  b. From which age group is the lowest revenue generated in the year 2023?\n",
        "\n",
        "  c. What is the percentage of revenue generated for the age group 18-24?\n"
      ],
      "metadata": {
        "id": "JQV2wgUNsi69"
      }
    },
    {
      "cell_type": "markdown",
      "source": [
        "4. For different landing pages, Show the number of transactions, E-Commerce Conversion Rate and revenue  with respect to the last period.\n",
        "\n",
        "  a. What is the total number of landing pages for the last quarter?\n",
        "  \n",
        " \tb. Which landing page has the highest transactions in the year 2021?"
      ],
      "metadata": {
        "id": "r3vLaN2Xs7fV"
      }
    },
    {
      "cell_type": "markdown",
      "source": [
        "5. Show the revenue generated for different cities of the USA. Also plot a chart showing the transactions and  average screen time for the new users.\n",
        "\n",
        "  a. From which city, the highest revenue was generated in the first quarter of 2023?\n",
        "  \n",
        "  b. What is the number of new users in the last 14 days and what is the revenue generated by them?\n"
      ],
      "metadata": {
        "id": "8MuhmMG1s-ne"
      }
    },
    {
      "cell_type": "markdown",
      "source": [
        "\n",
        "\n",
        "**Link:-**https://lookerstudio.google.com/reporting/4456a2a9-cdaa-4796-9a05-96b0df98e451\n",
        "\n"
      ],
      "metadata": {
        "id": "s5YKZPn3tcxG"
      }
    },
    {
      "cell_type": "code",
      "source": [],
      "metadata": {
        "id": "eZOvc01SSBoW"
      },
      "execution_count": null,
      "outputs": []
    },
    {
      "cell_type": "markdown",
      "source": [
        "### **B. Cohort Analytics:**"
      ],
      "metadata": {
        "id": "igP0Pfg0tE88"
      }
    },
    {
      "cell_type": "markdown",
      "source": [
        "1. Plot a chart to show the trend of user Purchase conv rate a given time period.(Compare for different cohort sizes)"
      ],
      "metadata": {
        "id": "x9TEH9jJtHuc"
      }
    },
    {
      "cell_type": "markdown",
      "source": [
        "2. Plot a chart showing the conversion rate per user for 30 days in any month."
      ],
      "metadata": {
        "id": "xJAb9QButTCg"
      }
    },
    {
      "cell_type": "markdown",
      "source": [
        "3. Plot a chart showing the grand total conversion rate for different user categories for 30 days in a month."
      ],
      "metadata": {
        "id": "bnB83ziRtWXG"
      }
    },
    {
      "cell_type": "markdown",
      "source": [
        "4. Plot a chart showing the Bounce rates for different countries over a specific period of time. Also show different metrics such as total users, new users,  conversion rate per user, time on screen, Average price, Order value etc. for different countries."
      ],
      "metadata": {
        "id": "VbLXbmvAtY1n"
      }
    },
    {
      "cell_type": "markdown",
      "source": [
        "**Cohort Analytics Solution:**\n",
        "\n",
        "**Link:-**https://lookerstudio.google.com/reporting/31c0ae0e-4388-4918-b1a4-fa8e9ae8302b\n"
      ],
      "metadata": {
        "id": "Gzw2dtcPt4e6"
      }
    },
    {
      "cell_type": "markdown",
      "source": [
        "### **C. Funnel Analytics:**"
      ],
      "metadata": {
        "id": "oVAeRjjZtdtO"
      }
    },
    {
      "cell_type": "markdown",
      "source": [
        "Prepare a funnel overview with 5 parts - Acquisition, Activation,   Retention, Revenue, Referral, Funnel Visualization. Add different charts and graphs showing the following metrics:\n",
        "\n"
      ],
      "metadata": {
        "id": "M_72rqngtjfs"
      }
    },
    {
      "cell_type": "markdown",
      "source": [
        "1. *Acquisition*:\n",
        "\n",
        "  a. The number of sessions and bounce rate for each channel.\n",
        "\n",
        "  b. The number of visitors and returning visitors for each channel.\n",
        "\n",
        "  c. Total users and session showing comparison with respect to the previous month.\n"
      ],
      "metadata": {
        "id": "uv5iHGPXtnV9"
      }
    },
    {
      "cell_type": "markdown",
      "source": [
        "2. *Activation:*\n",
        "\n",
        "  a. What is the Bounce rate, and Average Session Duration for all users?\n",
        "\n",
        "  b. conversion rates.\n"
      ],
      "metadata": {
        "id": "P2wnbEAVt3r9"
      }
    },
    {
      "cell_type": "markdown",
      "source": [
        "3. *Retention*:\n",
        "\n",
        "  a. What is the number of returning users and its bounce rate?\n",
        "\n",
        "  b. The number of transactions made for each session for returning users.\n"
      ],
      "metadata": {
        "id": "TIcM7v_Nt-a1"
      }
    },
    {
      "cell_type": "markdown",
      "source": [
        "4. *Revenue*:\n",
        "\n",
        "  a. What is the total revenue, Total transactions, Revenue per user, E-Commerce Conversion Rate, and Product revenue per purchase for all users.\n",
        "\n",
        "  b. Quantity bought for each product.\n"
      ],
      "metadata": {
        "id": "kXm77ZEquU79"
      }
    },
    {
      "cell_type": "markdown",
      "source": [
        "5. *Referral*:\n",
        "\n",
        "  a. What is the number of sessions and Bounce rate for the referral users?\n",
        "\n",
        "  b. Number of sessions for each referral.\n"
      ],
      "metadata": {
        "id": "Sm-UBpKoujSV"
      }
    },
    {
      "cell_type": "markdown",
      "source": [
        "6. *Funnel Visualization:*\n",
        "\n",
        "Add a Metric Funnel under Community visualisations in Data Studio showing the following processes in the  funnel:\n",
        "Total Engaged Users - Users who completed the registrations - Users who added items to card - Users who entered Checkout - users who completed Payment.\n",
        "\n"
      ],
      "metadata": {
        "id": "9oehnVaFzFFH"
      }
    },
    {
      "cell_type": "markdown",
      "source": [
        "** **bold text**Funnel Analytics Solution:-**\n",
        "\n",
        "**Link:-**https://lookerstudio.google.com/reporting/03d2ef59-2219-4cc7-9b19-fd2d38fe193e\n"
      ],
      "metadata": {
        "id": "4EKejitduflN"
      }
    },
    {
      "cell_type": "markdown",
      "source": [
        "***Please paste the published link for your Google Data Studio here for A,B and C.***"
      ],
      "metadata": {
        "id": "_uIDwBQxvtx3"
      }
    },
    {
      "cell_type": "markdown",
      "source": [
        "###1. Define the steps on how you can perform a SWOT Analysis on the Google Merchandise Store website.\n",
        "\n",
        "\n",
        "Solution :\n",
        "\n",
        "1. **Strengths **:\n",
        "   - Identify the website's strengths, such as its strong brand association with Google, a wide range of products, user-friendly interface, secure payment options, responsive design, etc.\n",
        "   - Evaluate what sets the website apart from competitors and contributes to its success.\n",
        "\n",
        "2. **Weaknesses **:\n",
        "   - Analyze the website's weaknesses, such as slow loading times, navigation difficulties, limited customization options, lack of personalized recommendations, inventory management issues, etc.\n",
        "   - Consider aspects that may hinder the website's performance or result in a poor user experience.\n",
        "\n",
        "3. **Opportunities **:\n",
        "   - Explore potential opportunities for the Google Merchandise Store website, such as expanding into new markets, introducing innovative products, enhancing digital marketing efforts, leveraging social media influencers, optimizing for mobile devices, etc.\n",
        "   - Look for emerging trends or market gaps that the website can capitalize on to grow its business.\n",
        "\n",
        "4. **Threats **:\n",
        "   - Identify external threats that could impact the website's performance, such as intense competition from other e-commerce platforms, changes in consumer preferences, economic downturns, cybersecurity risks, regulatory changes, etc.\n",
        "\n",
        "\n",
        "\n",
        "\n",
        "###2. Which features of the dataset can you perform A/B Testing?\n",
        "\n",
        "Solution :A/B testing, also known as split testing, is a method of comparing two versions of a webpage or app against each other to determine which one performs better. In the context of a dataset, A/B testing can be applied to compare different features or variables to assess their impact on certain outcomes or metrics. Here are some features of a dataset where A/B testing can be performed:\n",
        "\n",
        "1. **Website Design Elements**: A/B testing can be used to compare different design elements such as layouts, color schemes, fonts, button styles, etc., to see which combination leads to higher user engagement, click-through rates, or conversion rates.\n",
        "\n",
        "2. **Product Descriptions or Images**: A/B testing can evaluate the effectiveness of different product descriptions, images, videos, or multimedia content in influencing purchasing decisions or user behavior.\n",
        "\n",
        "3. **Pricing Strategies**: A/B testing can compare different pricing strategies, such as discounts, promotions, bundling, or tiered pricing, to determine which pricing approach maximizes revenue or conversion rates.\n",
        "\n",
        "4. **Marketing Campaigns**: A/B testing can assess the performance of different marketing campaigns, messages, channels, or targeting criteria to optimize advertising spend, click-through rates, lead generation, or customer acquisition.\n",
        "\n",
        "5. **Website Features and Functionalities**: A/B testing can evaluate the impact of adding or modifying website features and functionalities, such as search filters, navigation menus, checkout processes, payment options, etc., on user experience and conversion rates.\n",
        "\n",
        "\n",
        "\n",
        "###3.  Mention different types of A/B tests you can perform on the dataset.\n",
        "Solution :\n",
        "\n",
        "\n",
        "###4. Which statistical approach you can use to run an A/B test?\n",
        "\n",
        "Solution :In the context of a dataset, there are various types of A/B tests that can be performed to analyze different aspects and variables. Here are some examples:\n",
        "\n",
        "1. **Page Layout or Design Tests**: Compare different page layouts, designs, or templates to determine which one leads to higher engagement, conversion rates, or other key metrics.\n",
        "\n",
        "2. **Content Variation Tests**: Evaluate the effectiveness of different content variations, such as headlines, product descriptions, call-to-action (CTA) texts, images, or videos, in influencing user behavior or outcomes.\n",
        "\n",
        "3. **Navigation and User Experience Tests**: Test variations in website navigation menus, search functionalities, filtering options, or user interface elements to identify the most intuitive and user-friendly design.\n",
        "\n",
        "4. **Pricing Tests**: Assess the impact of different pricing strategies, such as discounts, package bundles, or tiered pricing models, on revenue, conversion rates, or customer retention.\n",
        "\n",
        "5. **Feature Addition or Modification Tests**: Test the introduction or modification of specific features or functionalities on the website to understand their impact on user engagement, satisfaction, or conversion rates.\n",
        "\n",
        "\n",
        "###5. Mention the steps to perform the A/B Test.\n",
        "\n",
        "Solution :Performing an A/B test involves several key steps to ensure accurate results and meaningful insights. Here's a comprehensive guide on how to conduct an A/B test:\n",
        "\n",
        "1. **Define Objective**: Clearly outline the goal of the A/B test. Identify the specific metric or key performance indicator (KPI) you want to improve, such as conversion rate, click-through rate, revenue, etc.\n",
        "\n",
        "2. **Formulate Hypothesis**: Develop a hypothesis that states the expected outcome of the A/B test. This hypothesis should articulate the anticipated impact of the change being tested on the chosen metric.\n",
        "\n",
        "3. **Select Test Variable**: Determine the variable or element that you want to test. This could be a webpage design, content variation, pricing strategy, feature addition, etc.\n",
        "\n",
        "4. **Divide Audience**: Randomly divide your audience or users into two groups: the control group (A) and the treatment group (B). Ensure that the groups are statistically similar in terms of demographics, behavior, and other relevant factors.\n",
        "\n",
        "5. **Create Variations**: Develop two or more variations of the test variable. The control group should experience the current/original version (A), while the treatment group should be exposed to the modified version(s) (B).\n",
        "\n",
        "6. **Implement Test**: Deploy the variations to the respective groups. This could involve updating website elements, content, pricing displays, or other relevant changes.\n",
        "\n",
        "7. **Collect Data**: Track and collect data on the chosen metric(s) for both the control and treatment groups. Use analytics tools or data tracking mechanisms to measure user interactions, conversions, or other relevant behaviors.\n",
        "\n",
        "8. **Run Test for Sufficient Duration**: Allow the test to run for a sufficient duration to gather statistically significant results. The duration will depend on factors such as traffic volume, conversion rates, and the magnitude of the expected impact.\n",
        "\n",
        "9. **Analyze Results**: Analyze the data collected from both groups to evaluate the performance of the variations. Calculate relevant statistical measures, such as confidence intervals, p-values, and effect sizes, to determine the significance of any observed differences.\n",
        "\n",
        "10. **Draw Conclusions**: Determine whether the observed differences in performance between the variations are statistically significant and align with the initial hypothesis. Draw conclusions about the effectiveness of the changes tested.\n",
        "\n",
        "11. **Implement Winning Variation**: If one variation significantly outperforms the others and the results are statistically significant, implement the winning variation as the new standard. If not, consider refining the test and conducting further experiments.\n",
        "\n",
        "12. **Document and Share Findings**: Document the results of the A/B test, including the methodology, findings, conclusions, and any actionable insights gained. Share these findings with relevant stakeholders to inform future decisions and optimizations.\n",
        "\n",
        "13. **Iterate and Repeat**: Continuously iterate and refine your A/B testing process based on learnings from previous tests. Repeat the cycle to continually optimize and improve the user experience, conversion rates, and other key metrics.\n",
        "\n",
        "By following these steps, you can conduct A/B tests effectively to make data-driven decisions and drive improvements in your website, app, or marketing strategies.\n",
        "\n",
        "\n",
        "###6. What are the advantages of A/B testing for this website?\n",
        "\n",
        "Solution :For the Google Merchandise Store website, implementing A/B testing can offer several advantages:\n",
        "\n",
        "1. **Data-Driven Decision Making**: A/B testing allows the website to make decisions based on empirical data rather than assumptions or intuition. By testing variations of different elements, such as design, content, or features, the website can identify what resonates best with users and drives desired outcomes.\n",
        "\n",
        "2. **Optimized User Experience**: A/B testing enables the optimization of the user experience by identifying and implementing changes that lead to higher engagement, increased conversions, and improved satisfaction. By continuously testing and refining different aspects of the website, the user experience can be tailored to meet the preferences and needs of the target audience.\n",
        "\n",
        "3. **Increased Conversion Rates**: A/B testing can help improve conversion rates by identifying and implementing changes that encourage users to take desired actions, such as making a purchase, signing up for a newsletter, or completing a form. By testing different variations of elements like CTAs, forms, or checkout processes, the website can optimize conversion funnels and reduce friction points.\n",
        "\n",
        "4. **Enhanced Customer Insights**: A/B testing generates valuable insights into customer behavior, preferences, and motivations. By analyzing the results of tests, the website can gain a deeper understanding of what drives user engagement and conversion, enabling more targeted and effective marketing strategies and product offerings.\n",
        "\n",
        "\n",
        "\n",
        "\n",
        "\n",
        "\n",
        "\n",
        "###7. What can be the challenges you can face while performing this A/B testing?\n",
        "\n",
        "Solution :While A/B testing can provide valuable insights and opportunities for optimization, several challenges may arise during the process. Here are some common challenges associated with performing A/B testing:\n",
        "\n",
        "1. **Sample Size and Statistical Significance**: Ensuring that the sample size for each variation is large enough to yield statistically significant results can be challenging, especially for websites with low traffic volumes. Inadequate sample sizes can lead to unreliable conclusions and false positives or negatives.\n",
        "\n",
        "2. **Duration and Timing**: Determining the appropriate duration for running A/B tests is crucial to capturing meaningful data. However, seasonal fluctuations, external events, or changes in user behavior may influence test results, making it challenging to isolate the effects of the variations being tested.\n",
        "\n",
        "3. **Multiple Variables and Interactions**: Testing multiple variables simultaneously or overlooking potential interactions between variables can complicate the interpretation of test results. It may be challenging to identify which specific changes are driving observed differences in performance, especially when testing complex features or designs.\n",
        "\n",
        "4. **Test Validity and Reliability**: Ensuring the validity and reliability of A/B tests requires careful planning and execution. Factors such as sample bias, technical errors, or measurement inaccuracies can compromise the integrity of test results, leading to incorrect conclusions or flawed optimizations.\n",
        "\n",
        "5. **Resource Constraints**: Conducting A/B tests effectively requires dedicated resources, including time, expertise, and technology. Limited resources or competing priorities may hinder the ability to design, execute, and analyze tests thoroughly, delaying the optimization process.\n",
        "\n"
      ],
      "metadata": {
        "id": "RPnqkLPDzSw9"
      }
    }
  ]
}